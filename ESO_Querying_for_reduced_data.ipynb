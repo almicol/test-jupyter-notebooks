{
 "cells": [
  {
   "cell_type": "markdown",
   "metadata": {},
   "source": [
    "# Querying for reduced data\n",
    "\n",
    "This section shows how to programmatically query the database table that exposes the metadata of the reduced data.\n",
    "\n",
    "The table is called ivoa.ObsCore and it is fully compliant to the so-called **ObsCore** Virtual Observatory standard: [Observation Data Model Core Components and its Implementation in the Table Access Protocol, Version 1.1](http://ivoa.net/documents/ObsCore/index.html), IVOA Recommandation 09 May 2017, Louys et al.\n",
    "\n",
    "In the following you will learn how to:"
   ]
  },
  {
   "cell_type": "markdown",
   "metadata": {},
   "source": [
    "1. [Query by identifier](#query_by_identifier)\n",
    "1. [Query by coordinates (aka spatial queries)](#query_by_coordinates)\n",
    "   1. [Cone search](#cone_search)\n",
    "   1. Products' footprints containing a user-defined point\n",
    "   1. Products' footprints intersecting a user-defined polygon"
   ]
  },
  {
   "cell_type": "markdown",
   "metadata": {},
   "source": [
    "First of all, let's:\n",
    "* import what is necessary\n",
    "* define the ESO Tabular Access Protocol endpoint used to search through the reduced data\n",
    "* instantiate the TAP service"
   ]
  },
  {
   "cell_type": "code",
   "execution_count": 2,
   "metadata": {},
   "outputs": [],
   "source": [
    "import os \n",
    "import sys\n",
    "\n",
    "import numpy as np\n",
    "\n",
    "from astropy.visualization import astropy_mpl_style\n",
    "\n",
    "from astropy import table\n",
    "from astropy.coordinates import SkyCoord\n",
    "from astropy.units import Quantity\n",
    "\n",
    "from pyvo.dal import tap\n",
    "\n",
    "import matplotlib.pyplot as plt\n",
    "import pandas\n",
    "\n",
    "ESO_TAP_OBS = \"http://archive.eso.org/tap_obs\"\n",
    "\n",
    "tapobs = tap.TAPService(ESO_TAP_OBS)"
   ]
  },
  {
   "cell_type": "markdown",
   "metadata": {},
   "source": [
    "## <a id='query_by_identifier'>1. Query by identifier</a>"
   ]
  },
  {
   "cell_type": "markdown",
   "metadata": {},
   "source": [
    "Each file in the archive has been assigned a unique ESO identifier. For reduced products this is a 27-character name whose first 4 characters are 'ADP.' followed by a datetime string, up to the millisecond. Example: ADP.2013-12-10T16:12:17.697\n",
    "<small>(That timestamp is **not** the datetime when the observation was taken, take it just as a synthetic string without any associated meaning)</small>\n",
    "\n",
    "Completely equivalently, a Virtual Observatory identifier (colloquially called \"ivorn\") exists, and takes the form of constant string 'ivo://eso.org/ID?' prepended to the ESO identifier. Example: ivo://eso.org/ID?ADP.2013-12-10T16:12:17.697\n",
    "\n",
    "The same query can be expressed using either the ESO or the VO identifier; the ESO identifier is stored in the column 'dp_id', while the ivorn is in the ObsCore standard column 'obs_publisher_did'. Let's start with the standard query: "
   ]
  },
  {
   "cell_type": "code",
   "execution_count": 3,
   "metadata": {},
   "outputs": [
    {
     "name": "stdout",
     "output_type": "stream",
     "text": [
      "SELECT *\n",
      "FROM ivoa.ObsCore\n",
      "WHERE obs_publisher_did = 'ivo://eso.org/ID?ADP.2013-12-10T16:12:17.697'\n"
     ]
    }
   ],
   "source": [
    "dp_id = 'ADP.2013-12-10T16:12:17.697'\n",
    "ivorn = 'ivo://eso.org/ID?' + dp_id\n",
    "\n",
    "query = \"\"\"SELECT *\n",
    "FROM ivoa.ObsCore\n",
    "WHERE obs_publisher_did = '%s'\"\"\" % (ivorn)\n",
    "\n",
    "print(query)"
   ]
  },
  {
   "cell_type": "markdown",
   "metadata": {},
   "source": [
    "**Send the ADQL query to the ESO TAP service**\n",
    "\n",
    "Beware: the next cell could return some warnings about wrong UCDs; that simply means that you have not yet updated to the latest version of astropy. Anyways, those warnings are not important, and you can continue disregarding them.\n",
    "\n",
    "The search return the table of results (res)."
   ]
  },
  {
   "cell_type": "code",
   "execution_count": 4,
   "metadata": {},
   "outputs": [
    {
     "name": "stdout",
     "output_type": "stream",
     "text": [
      "<Table length=1>\n",
      "abmaglim access_estsize ... t_xel target_name\n",
      "             kbyte      ...                  \n",
      "float64      int64      ... int64    object  \n",
      "-------- -------------- ... ----- -----------\n",
      "      --           1186 ...    --  J0001+0307\n"
     ]
    }
   ],
   "source": [
    "res = tapobs.search(query=query, maxrec=1000)\n",
    "\n",
    "print(res)"
   ]
  },
  {
   "cell_type": "markdown",
   "metadata": {},
   "source": [
    "Given the 'SELECT *', the result set contains all the ObsCore columns.\n",
    "The ESO ObsCore table contains 41 columns of the ObsCore standard, plus 9 ESO-specific columns, which are:\n",
    "* abmaglim (available only for images, catalogtiles, and cubes)\n",
    "* gal_lat\n",
    "* gal_lon\n",
    "* multi_ob\n",
    "* n_obs\n",
    "* obstech\n",
    "* p3orig\n",
    "* publication_date\n",
    "* snr (available only for spectra)\n",
    "\n",
    "The following shows all the returned columns and their values."
   ]
  },
  {
   "cell_type": "code",
   "execution_count": 5,
   "metadata": {},
   "outputs": [
    {
     "name": "stdout",
     "output_type": "stream",
     "text": [
      "abmaglim             \t = \t 0.0\n",
      "access_estsize       \t = \t 1186\n",
      "access_format        \t = \t b'application/x-votable+xml;content=datalink'\n",
      "access_url           \t = \t b'http://archive.eso.org/datalink/links?ID=ivo://eso.org/ID?ADP.2013-12-10T16:12:17.697'\n",
      "bib_reference        \t = \t b''\n",
      "calib_level          \t = \t 2\n",
      "dataproduct_subtype  \t = \t b''\n",
      "dataproduct_type     \t = \t b'spectrum'\n",
      "dp_id                \t = \t b'ADP.2013-12-10T16:12:17.697'\n",
      "em_max               \t = \t 4.56293e-07\n",
      "em_min               \t = \t 3.2819e-07\n",
      "em_res_power         \t = \t 39090.0\n",
      "em_xel               \t = \t 46961\n",
      "facility_name        \t = \t b'ESO-VLT-U2'\n",
      "filter               \t = \t b''\n",
      "gal_lat              \t = \t -57.421596\n",
      "gal_lon              \t = \t 99.219121\n",
      "instrument_name      \t = \t b'UVES'\n",
      "multi_ob             \t = \t b'S'\n",
      "n_obs                \t = \t 1\n",
      "o_calib_status       \t = \t b'absolute'\n",
      "o_ucd                \t = \t b''\n",
      "obs_collection       \t = \t b'UVES'\n",
      "obs_creator_did      \t = \t b'ivo://eso.org/origfile?UV_SFLX_981908_2013-10-31T02:09:09.322_BLU390d1_2x2_11.fits'\n",
      "obs_creator_name     \t = \t b'PETTINI, MAX'\n",
      "obs_id               \t = \t b'981908'\n",
      "obs_publisher_did    \t = \t b'ivo://eso.org/ID?ADP.2013-12-10T16:12:17.697'\n",
      "obs_release_date     \t = \t b'2014-10-31T04:26:25Z'\n",
      "obs_title            \t = \t b'J0001+0307_981908_2013-10-31T02:09:09.322_BLUE390d1_2x2_11'\n",
      "obstech              \t = \t b'ECHELLE'\n",
      "p3orig               \t = \t b'IDP'\n",
      "pol_states           \t = \t b''\n",
      "pol_xel              \t = \t 0.0\n",
      "proposal_id          \t = \t b'092.A-0022(A)'\n",
      "publication_date     \t = \t b'2013-12-10T00:00:00Z'\n",
      "s_dec                \t = \t 3.12536\n",
      "s_fov                \t = \t 0.00031\n",
      "s_pixel_scale        \t = \t 0.0\n",
      "s_ra                 \t = \t 0.334648\n",
      "s_region             \t = \t b'POSITION J2000 0.3346479999999872 3.12536'\n",
      "s_resolution         \t = \t 0.0\n",
      "s_xel1               \t = \t 0.0\n",
      "s_xel2               \t = \t 0.0\n",
      "snr                  \t = \t 6.1\n",
      "t_exptime            \t = \t 3365.001\n",
      "t_max                \t = \t 56596.128638\n",
      "t_min                \t = \t 56596.08969123\n",
      "t_resolution         \t = \t 3365.000928\n",
      "t_xel                \t = \t 0.0\n",
      "target_name          \t = \t b'J0001+0307'\n"
     ]
    }
   ],
   "source": [
    "for colname in res.to_table().colnames:\n",
    "    print(\"{:20s} \\t = \\t {}\".format(colname, res[colname][0]))"
   ]
  },
  {
   "cell_type": "markdown",
   "metadata": {},
   "source": [
    "## <a id='query_by_coordinates'>2. Query by coordinates (aka spatial queries)</a>"
   ]
  },
  {
   "cell_type": "markdown",
   "metadata": {},
   "source": [
    "You are interested in a positional query, as you want to find products around a certain position in the sky. There are multple ways one can pose such question; it all depends on the use case at hand and which data you are looking for.\n",
    "\n",
    "On one side, the data...\n",
    "\n",
    "The reduced data are spatially characterised by their footprint (column: s_region).\n",
    "In the example above, the footprint of the source table is described by a polygon.\n",
    "The types of footprins in the ESO archive are:\n",
    "* a point (this is the case for spectra and visibilities)\n",
    "* a circle (this is the case for the majority of ALMA data)\n",
    "* a polygon (e.g. for tile images, catalog tiles, cubes)\n",
    "* a union of polygons (e.g. uncombined images of a multichip camera, and relative source tables) \n",
    "\n",
    "On the other side, your use case...\n",
    "\n",
    "You might want to apply different criteria, e.g.: \n",
    "* give me any spectra within N arcsec from a certain point,\n",
    "    * this is the typical cone search\n",
    "* give me any product close to a certain point,\n",
    "    * no special requirements, just investigating\n",
    "* give me any product that actually cover a certain point,\n",
    "    * e.g. to find progenitors of supernovae\n",
    "* give me any product covering different parts an extended region,\n",
    "    * e.g. to map the Orion nebula\n"
   ]
  },
  {
   "cell_type": "markdown",
   "metadata": {},
   "source": [
    "### <a id='cone_seach'>2.A- Cone search</a>"
   ]
  },
  {
   "cell_type": "markdown",
   "metadata": {},
   "source": [
    "You are looking for products whose footprint is point-like (either spectra or visibilities, at this moment in time). \n",
    "\n",
    "Let's assume you want to find any spectra in a circle around your favourite object.\n",
    "\n",
    "Either you know the equatorial coordinates of your object, or you rely onto a name resolver like SESAME. \n",
    "\n",
    "Let's search for spectra taken within a diameter of 5 arcmin around NGC 4666.\n",
    "Let's rely on SESAME (CDS)."
   ]
  },
  {
   "cell_type": "code",
   "execution_count": 6,
   "metadata": {},
   "outputs": [
    {
     "name": "stdout",
     "output_type": "stream",
     "text": [
      "SESAME coordinates for NGC 4666: 191.286 -0.461911 (truncated to millidegrees)\n",
      "\n",
      "SELECT *\n",
      "FROM ivoa.ObsCore\n",
      "WHERE dataproduct_type='spectrum'\n",
      "AND contains(s_region, circle('', 191.286150, -0.461911, 0.041667))=1\n",
      "ORDER BY t_min\n"
     ]
    }
   ],
   "source": [
    "# Defining position via SESAME name resolver, and search radius\n",
    "target = \"NGC 4666\"\n",
    "sr = 2.5/60. # search radius of 2.5 arcmin, always expressed in degrees\n",
    "\n",
    "pos = SkyCoord.from_name(target)\n",
    "print(\"SESAME coordinates for %s: %s (truncated to millidegrees)\\n\" % (target, pos.to_string()))\n",
    "\n",
    "query = \"\"\"SELECT *\n",
    "FROM ivoa.ObsCore\n",
    "WHERE dataproduct_type='spectrum'\n",
    "AND contains(s_region, circle('', %f, %f, %f))=1\n",
    "ORDER BY t_min\"\"\" % (pos.ra.degree , pos.dec.degree, sr)\n",
    "\n",
    "print(query)"
   ]
  },
  {
   "cell_type": "code",
   "execution_count": 18,
   "metadata": {},
   "outputs": [
    {
     "name": "stdout",
     "output_type": "stream",
     "text": [
      "Num matching datasets: 50\n",
      "<Table length=50>\n",
      "abmaglim access_estsize ... t_xel target_name\n",
      "             kbyte      ...                  \n",
      "float64      int64      ... int64    object  \n",
      "-------- -------------- ... ----- -----------\n",
      "      --           3755 ...    -- SN_Ia_epI_a\n",
      "      --           2718 ...    -- SN_Ia_epI_a\n",
      "      --             46 ...    -- ASASSN-14lp\n",
      "      --             46 ...    -- ASASSN-14lp\n",
      "      --           3755 ...    -- SN_Ia_epI_a\n",
      "      --           2718 ...    -- SN_Ia_epI_a\n",
      "      --           3755 ...    -- SN_Ia_epI_a\n",
      "      --           2718 ...    -- SN_Ia_epI_a\n",
      "      --           3755 ...    -- SN_Ia_epI_b\n",
      "     ...            ... ...   ...         ...\n",
      "      --           2707 ...    -- ASASSN-14lp\n",
      "      --           2707 ...    -- ASASSN-14lp\n",
      "      --           3755 ...    -- ASASSN-14lp\n",
      "      --           2707 ...    -- ASASSN-14lp\n",
      "      --           3755 ...    -- ASASSN-14lp\n",
      "      --             46 ...    -- ASASSN-14lp\n",
      "      --             46 ...    -- ASASSN-14lp\n",
      "      --             46 ...    -- ASASSN-14lp\n",
      "      --             46 ...    -- ASASSN-14lp\n",
      "      --             46 ...    -- ASASSN-14lp\n"
     ]
    }
   ],
   "source": [
    "res = tapobs.search(query=query, maxrec=1000)\n",
    "print(\"Num matching datasets: %d\" % (len(res)))\n",
    "print(res)"
   ]
  },
  {
   "cell_type": "code",
   "execution_count": 17,
   "metadata": {},
   "outputs": [
    {
     "data": {
      "text/plain": [
       "<matplotlib.axes._subplots.AxesSubplot at 0x1197d9a50>"
      ]
     },
     "execution_count": 17,
     "metadata": {},
     "output_type": "execute_result"
    },
    {
     "data": {
      "image/png": "[encoded data removed]",
      "text/plain": [
       "<Figure size 432x288 with 1 Axes>"
      ]
     },
     "metadata": {
      "needs_background": "light"
     },
     "output_type": "display_data"
    }
   ],
   "source": [
    "from collections import Counter\n",
    "dp_types = res['target_name']\n",
    "dp_types_counts = Counter(dp_types)\n",
    "df = pandas.DataFrame.from_dict(dp_types_counts, orient='index')\n",
    "df.plot(kind='bar', rot=45)"
   ]
  },
  {
   "cell_type": "code",
   "execution_count": 20,
   "metadata": {},
   "outputs": [],
   "source": [
    "import ipyaladin"
   ]
  }
 ],
 "metadata": {
  "kernelspec": {
   "display_name": "Python 3",
   "language": "python",
   "name": "python3"
  },
  "language_info": {
   "codemirror_mode": {
    "name": "ipython",
    "version": 3
   },
   "file_extension": ".py",
   "mimetype": "text/x-python",
   "name": "python",
   "nbconvert_exporter": "python",
   "pygments_lexer": "ipython3",
   "version": "3.7.6"
  }
 },
 "nbformat": 4,
 "nbformat_minor": 4
}
